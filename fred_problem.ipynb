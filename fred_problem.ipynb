{
 "cells": [
  {
   "cell_type": "markdown",
   "metadata": {},
   "source": [
    "<table>\n",
    " <tr align=left><td><img align=left src=\"https://i.creativecommons.org/l/by/4.0/88x31.png\">\n",
    " <td>Text provided under a Creative Commons Attribution license, CC-BY. All code is made available under the FSF-approved MIT license. (c) Kyle T. Mandli</td>\n",
    "</table>"
   ]
  },
  {
   "cell_type": "code",
   "execution_count": null,
   "metadata": {},
   "outputs": [],
   "source": [
    "from __future__ import print_function\n",
    "%matplotlib inline\n",
    "\n",
    "import numpy\n",
    "import matplotlib.pyplot as plt"
   ]
  },
  {
   "cell_type": "markdown",
   "metadata": {},
   "source": [
    "# Fred's Problem - Flow Through a Funnel\n",
    "\n",
    "\n",
    "<img src=\"./images/fred_problem.jpg\">"
   ]
  },
  {
   "cell_type": "markdown",
   "metadata": {},
   "source": [
    "1. Given $h_0 = 25 \\text{ cm}$ find time to drain to $h = 10 \\text{ cm}$. $Q_{\\text{in}} = 0$.\n",
    "1. Starting at time $t=0$, $Q_i = \\frac{1}{2} Q_{\\text{out}}(h = 10_\\text{cm})$ find $t(h=10\\text{ cm})$.\n",
    "1. Write a computer program to solve (1) and (2).\n",
    "1. Explore program accuracy as a function of $\\Delta t$.\n",
    "1. Repeat with funnel and liquid of choice.  $Q_{\\text{out}} = C_d A_{\\text{out}} \\sqrt{2 g h}$, $A_{\\text{out}} = \\pi \\frac{D^2}{4}$"
   ]
  },
  {
   "cell_type": "code",
   "execution_count": null,
   "metadata": {},
   "outputs": [],
   "source": []
  }
 ],
 "metadata": {
  "kernelspec": {
   "display_name": "Python 3",
   "language": "python",
   "name": "python3"
  },
  "language_info": {
   "codemirror_mode": {
    "name": "ipython",
    "version": 3
   },
   "file_extension": ".py",
   "mimetype": "text/x-python",
   "name": "python",
   "nbconvert_exporter": "python",
   "pygments_lexer": "ipython3",
   "version": "3.7.7"
  }
 },
 "nbformat": 4,
 "nbformat_minor": 2
}
